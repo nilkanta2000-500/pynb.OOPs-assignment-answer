{
  "nbformat": 4,
  "nbformat_minor": 0,
  "metadata": {
    "colab": {
      "provenance": []
    },
    "kernelspec": {
      "name": "python3",
      "display_name": "Python 3"
    },
    "language_info": {
      "name": "python"
    }
  },
  "cells": [
    {
      "cell_type": "markdown",
      "source": [
        "#**Python OOPs Assignment : (Theory Questions & Answers)**\n",
        "\n",
        "\n",
        "\n",
        "\n",
        "1.**What is Object-Oriented Programming (OOP)?**\n",
        "\n",
        " Ans: OOP is a programming paradigm based on the concept of objects, which can containdata and methods. It promotes modularity and reusability.\n",
        "\n",
        "2.**What is a class in OOP?**\n",
        "\n",
        " Ans: A class is a blueprint for creating objects. It defines attributes and methods that thecreated objects (instances) will have.\n",
        "\n",
        "3.**What is an object in OOP?**\n",
        "\n",
        " Ans: An object is an instance of a class. It is a self-contained unit that consists of data and methods to manipulate that data.\n",
        "\n",
        "4.**What is the difference between abstraction and encapsulation?**\n",
        "\n",
        " Ans: Abstraction hides implementation details and shows only essential features.Encapsulation bundles data and methods into a single unit and restricts access to somecomponents.\n",
        "\n",
        "5.**What are dunder methods in Python?**\n",
        "\n",
        " Ans: Dunder (double underscore) methods are special methods in Python like __init__,__str__, and __repr__ that start and end with double underscores.\n",
        "\n",
        "6.**Explain the concept of inheritance in OOP.**\n",
        "\n",
        " Ans: Inheritance allows a class to inherit attributes and methods from another class, promoting code reuse.\n",
        "\n",
        "7.**What is polymorphism in OOP?**\n",
        "\n",
        " Ans: Polymorphism allows methods to do different things based on the object calling them,even if they share the same name.\n",
        "\n",
        "8.**How is encapsulation achieved in Python?**\n",
        "\n",
        " Ans: Encapsulation is achieved using private and protected members (by convention with _ or__ prefixes) and through property decorators.\n",
        "\n",
        "9.**What is a constructor in Python?**\n",
        "\n",
        " Ans: A constructor is a special method called __init__ in Python, which is automatically called when a new object is created.\n",
        "\n",
        "10.**What are class and static methods in Python?**\n",
        "\n",
        " Ans: Class methods take a class as the first argument (@classmethod), while static methods do not take any implicit first argument (@staticmethod).\n",
        "\n",
        "11.**What is method overloading in Python?**\n",
        "\n",
        " Ans: Python doesn't support traditional method overloading. However, you can simulate it using default parameters or *args and **kwargs.\n",
        "\n",
        "12.**What is method overriding in OOP?**\n",
        "\n",
        " Ans: Method overriding occurs when a subclass provides a specific implementation of a method already defined in its superclass.\n",
        "\n",
        "13.**What is a property decorator in Python?**\n",
        "\n",
        " Ans: @property is a decorator that allows a method to be accessed like an attribute, enabling controlled access to instance data.\n",
        "\n",
        "14.**Why is polymorphism important in OOP?**\n",
        "\n",
        " Ans: Polymorphism promotes flexibility and reusability by allowing the same interface to be used for different data types.\n",
        "\n",
        "15.**What is an abstract class in Python?**\n",
        "\n",
        " Ans: An abstract class is a class that cannot be instantiated and typically includes abstract methods that must be implemented in subclasses.\n",
        "\n",
        "16.**What are the advantages of OOP?**\n",
        "\n",
        " Ans: OOP offers modularity, code reusability, abstraction, encapsulation, and easy maintenance.\n",
        "\n",
        "17.**What is the difference between a class variable and an instance variable?**\n",
        "\n",
        " Ans: Class variables are shared across all instances, whereas instance variables are unique to each instance.\n",
        "\n",
        "18.**What is multiple inheritance in Python?**\n",
        "\n",
        " Ans: Multiple inheritance is when a class inherits from more than one base class.\n",
        "\n",
        "19.**Explain the purpose of '__str__' and '__repr__' methods in Python.**\n",
        "\n",
        " Ans: __str__ returns a user-friendly string representation, while __repr__ returns an unambiguous representation for debugging.\n",
        "\n",
        "20.**What is the significance of the 'super()' function in Python?**\n",
        "\n",
        " Ans: super() allows you to call methods from a parent class, often used in method overriding or constructors.\n",
        "\n",
        "21.**What is the significance of the '__del__' method in Python?**\n",
        "\n",
        " Ans: __del__ is a destructor method that is called when an object is about to be destroyed.\n",
        "\n",
        "22.**What is the difference between @staticmethod and @classmethod in Python?**\n",
        "\n",
        " Ans: @staticmethod does not take any implicit first argument, while @classmethod takes the class as the first argument.\n",
        "\n",
        "23.**How does polymorphism work in Python with inheritance?**\n",
        "\n",
        " Ans: Through method overriding, where subclasses define methods that override the behavior of base class methods.\n",
        "\n",
        "24.**What is method chaining in Python OOP?**\n",
        "\n",
        " Ans: Method chaining is calling multiple methods sequentially in a single statement by returning self from each method.\n",
        "\n",
        "25.**What is the purpose of the '__call__' method in Python?**\n",
        "\n",
        " Ans: __call__ allows an instance of a class to be called as if it were a function."
      ],
      "metadata": {
        "id": "Rx7WRzFAEWCV"
      }
    },
    {
      "cell_type": "markdown",
      "source": [
        "#**Python OOPs Assignment : (Practical Questions & Answers)**"
      ],
      "metadata": {
        "id": "1Seecji6LDXK"
      }
    },
    {
      "cell_type": "markdown",
      "source": [
        "1.**Create a parent class Animal with a method speak() that prints a generic message. Create a child class Dog that overrides the speak() method to print \"Bark!\".**"
      ],
      "metadata": {
        "id": "U_lZO7GNOZo8"
      }
    },
    {
      "cell_type": "code",
      "source": [
        "# Parent class\n",
        "class Animal:\n",
        "    def speak(self):\n",
        "        print(\"This is a generic animal sound.\")\n",
        "\n",
        "# Child class\n",
        "class Dog(Animal):\n",
        "    def speak(self):\n",
        "        print(\"Bark!\")\n",
        "\n",
        "# Example usage\n",
        "animal = Animal()\n",
        "animal.speak()   # Output: This is a generic animal sound.\n",
        "\n",
        "dog = Dog()\n",
        "dog.speak()      # Output: Bark!"
      ],
      "metadata": {
        "colab": {
          "base_uri": "https://localhost:8080/"
        },
        "id": "jaUHCy1mOsu6",
        "outputId": "d93ef3f7-c1a8-49c8-9283-1b96d3bca08a"
      },
      "execution_count": 1,
      "outputs": [
        {
          "output_type": "stream",
          "name": "stdout",
          "text": [
            "This is a generic animal sound.\n",
            "Bark!\n"
          ]
        }
      ]
    },
    {
      "cell_type": "markdown",
      "source": [
        "2.**Write a program to create an abstract class Shape with a method area(). Derive classes Circle and Rectangle from it and implement the area() method in both.**"
      ],
      "metadata": {
        "id": "fk24SbhNQVFd"
      }
    },
    {
      "cell_type": "code",
      "source": [
        "import math\n",
        "\n",
        "class Shape:  # Abstract Class\n",
        "    def area(self):\n",
        "        raise NotImplementedError(\"Subclasses must implement the area method\")\n",
        "\n",
        "class Circle(Shape):\n",
        "    def __init__(self, radius):  # Constructor to initialize radius\n",
        "        self.radius = radius\n",
        "\n",
        "    def area(self):\n",
        "        return math.pi * self.radius**2\n",
        "\n",
        "class Rectangle(Shape):\n",
        "    def __init__(self, length, width):  # Constructor to initialize length and width\n",
        "        self.length = length\n",
        "        self.width = width\n",
        "\n",
        "    def area(self):\n",
        "        return self.length * self.width\n",
        "\n",
        "# Now you can create instances with arguments:\n",
        "c = Circle(5)\n",
        "print(\"Area of Circle:\", c.area())\n",
        "\n",
        "r = Rectangle(4, 6)\n",
        "print(\"Area of Rectangle:\", r.area())"
      ],
      "metadata": {
        "colab": {
          "base_uri": "https://localhost:8080/"
        },
        "id": "Bf-vZjYqQg5X",
        "outputId": "bfc9b378-c9a6-4fde-f1b0-c13f1dcc940a"
      },
      "execution_count": 6,
      "outputs": [
        {
          "output_type": "stream",
          "name": "stdout",
          "text": [
            "Area of Circle: 78.53981633974483\n",
            "Area of Rectangle: 24\n"
          ]
        }
      ]
    },
    {
      "cell_type": "markdown",
      "source": [
        "3.**Implement a multi-level inheritance scenario where a class Vehicle has an attribute type. Derive a class Car and further derive a class ElectricCar that adds a battery attribute.**"
      ],
      "metadata": {
        "id": "mqZprDGKSOrA"
      }
    },
    {
      "cell_type": "code",
      "source": [
        "# Base class\n",
        "class Vehicle:\n",
        "    def __init__(self, type): # Changed _init_ to __init__\n",
        "        self.type = type\n",
        "\n",
        "# Derived class from Vehicle\n",
        "class Car(Vehicle):\n",
        "    def __init__(self, type, brand): # Changed _init_ to __init__\n",
        "        super().__init__(type)\n",
        "        self.brand = brand\n",
        "\n",
        "# Derived class from Car (multi-level)\n",
        "class ElectricCar(Car): # Inherit from Car, not just an empty class\n",
        "    def __init__(self, type, brand, battery): # Changed _init_ to __init__\n",
        "        super().__init__(type, brand)\n",
        "        self.battery = battery\n",
        "\n",
        "# Example usage\n",
        "e_car = ElectricCar(\"Electric\", \"Tesla\", \"85 kWh\")\n",
        "\n",
        "print(\"Type:\", e_car.type)\n",
        "print(\"Brand:\", e_car.brand)\n",
        "print(\"Battery:\", e_car.battery)"
      ],
      "metadata": {
        "colab": {
          "base_uri": "https://localhost:8080/"
        },
        "id": "vOdBGY9fTEnt",
        "outputId": "3775205a-1e03-4711-d5fd-4072183d200e"
      },
      "execution_count": 9,
      "outputs": [
        {
          "output_type": "stream",
          "name": "stdout",
          "text": [
            "Type: Electric\n",
            "Brand: Tesla\n",
            "Battery: 85 kWh\n"
          ]
        }
      ]
    },
    {
      "cell_type": "markdown",
      "source": [
        "4.**Demonstrate polymorphism by creating a base class Bird with a method fly(). Create two derived classes Sparrow and Penguin that override the fly() method.**"
      ],
      "metadata": {
        "id": "tsI9uPcSTImV"
      }
    },
    {
      "cell_type": "code",
      "source": [
        "# Base class\n",
        "class Bird:\n",
        "    def fly(self):\n",
        "        print(\"Some birds can fly.\")\n",
        "\n",
        "# Derived class\n",
        "class Sparrow(Bird):\n",
        "    def fly(self):\n",
        "        print(\"Sparrow flies high in the sky.\")\n",
        "\n",
        "# Derived class\n",
        "class Penguin(Bird):\n",
        "    def fly(self):\n",
        "        print(\"Penguins cannot fly, they swim.\")\n",
        "\n",
        "# Polymorphism in action\n",
        "def bird_flight(bird: Bird):\n",
        "    bird.fly()\n",
        "\n",
        "# Example usage\n",
        "b1 = Sparrow()\n",
        "b2 = Penguin()\n",
        "\n",
        "bird_flight(b1)\n",
        "bird_flight(b2)"
      ],
      "metadata": {
        "colab": {
          "base_uri": "https://localhost:8080/"
        },
        "id": "S8F77Wn0TSgc",
        "outputId": "390fa323-1829-4295-fe36-ed8c058cc3f8"
      },
      "execution_count": 10,
      "outputs": [
        {
          "output_type": "stream",
          "name": "stdout",
          "text": [
            "Sparrow flies high in the sky.\n",
            "Penguins cannot fly, they swim.\n"
          ]
        }
      ]
    },
    {
      "cell_type": "markdown",
      "source": [
        "5.**Write a program to demonstrate encapsulation by creating a class BankAccount with private attributes\n",
        "balance and methods to deposit, withdraw, and check balance.**"
      ],
      "metadata": {
        "id": "NpV1rhkATnH9"
      }
    },
    {
      "cell_type": "code",
      "source": [
        "class BankAccount:\n",
        "    def __init__(self, initial_balance=0): # Changed _init_ to __init__\n",
        "        self.__balance = initial_balance  # private attribute\n",
        "\n",
        "    def deposit(self, amount):\n",
        "        if amount > 0:\n",
        "            self.__balance += amount\n",
        "            print(f\"Deposited: {amount}\")\n",
        "        else:\n",
        "            print(\"Deposit amount must be positive.\")\n",
        "\n",
        "    def withdraw(self, amount):\n",
        "        if 0 < amount <= self.__balance:\n",
        "            self.__balance -= amount\n",
        "            print(f\"Withdrew: {amount}\")\n",
        "        else:\n",
        "            print(\"Insufficient balance or invalid amount.\")\n",
        "\n",
        "    def check_balance(self):\n",
        "        print(f\"Current Balance: {self.__balance}\")\n",
        "\n",
        "# Example usage\n",
        "acc = BankAccount(1000)\n",
        "acc.deposit(500)\n",
        "acc.withdraw(300)\n",
        "acc.check_balance()"
      ],
      "metadata": {
        "colab": {
          "base_uri": "https://localhost:8080/"
        },
        "id": "WOqyq3fxVIE3",
        "outputId": "b639decf-3ab8-43fb-a265-ed1111e67b51"
      },
      "execution_count": 12,
      "outputs": [
        {
          "output_type": "stream",
          "name": "stdout",
          "text": [
            "Deposited: 500\n",
            "Withdrew: 300\n",
            "Current Balance: 1200\n"
          ]
        }
      ]
    },
    {
      "cell_type": "markdown",
      "source": [
        "6.**Demonstrate runtime polymorphism using a method play() in a base class Instrument. Derive classes Guitar\n",
        "and Piano that implement their own version of play().**"
      ],
      "metadata": {
        "id": "zH6AthnlVKjz"
      }
    },
    {
      "cell_type": "code",
      "source": [
        "# Base class\n",
        "class Instrument:\n",
        "    def play(self):\n",
        "        pass  # Base class doesn't define the implementation, leaving it for derived classes\n",
        "\n",
        "# Derived class Guitar\n",
        "class Guitar(Instrument):\n",
        "    def play(self):\n",
        "        print(\"Strumming the guitar!\")\n",
        "\n",
        "# Derived class Piano\n",
        "class Piano(Instrument):\n",
        "    def play(self):\n",
        "        print(\"Playing the piano!\")\n",
        "\n",
        "# Function to demonstrate runtime polymorphism\n",
        "def perform_instrument_play(instrument: Instrument):\n",
        "    instrument.play()  # This will call the appropriate version of play() based on the object type\n",
        "\n",
        "# Create instances of Guitar and Piano\n",
        "guitar = Guitar()\n",
        "piano = Piano()\n",
        "\n",
        "# Demonstrating runtime polymorphism\n",
        "perform_instrument_play(guitar)\n",
        "perform_instrument_play(piano)"
      ],
      "metadata": {
        "colab": {
          "base_uri": "https://localhost:8080/"
        },
        "id": "kQbvK9pAVOUu",
        "outputId": "1b9d6550-7cfc-4023-927c-75c06389c4cb"
      },
      "execution_count": 14,
      "outputs": [
        {
          "output_type": "stream",
          "name": "stdout",
          "text": [
            "Strumming the guitar!\n",
            "Playing the piano!\n"
          ]
        }
      ]
    },
    {
      "cell_type": "markdown",
      "source": [
        "7.**Create a class MathOperations with a class method add_numbers() to add two numbers and a static\n",
        "method subtract_numbers() to subtract two numbers.**"
      ],
      "metadata": {
        "id": "M8aZTZZ0VzSX"
      }
    },
    {
      "cell_type": "code",
      "source": [
        "class MathOperations:\n",
        "    # Class method to add two numbers\n",
        "    @classmethod\n",
        "    def add_numbers(cls, num1, num2):\n",
        "        return num1 + num2\n",
        "\n",
        "    # Static method to subtract two numbers\n",
        "    @staticmethod\n",
        "    def subtract_numbers(num1, num2):\n",
        "        return num1 - num2\n",
        "\n",
        "# Using the class method and static method\n",
        "sum_result = MathOperations.add_numbers(10, 5)\n",
        "difference_result = MathOperations.subtract_numbers(10, 5)\n",
        "\n",
        "print(f\"Sum: {sum_result}\")\n",
        "print(f\"Difference: {difference_result}\")"
      ],
      "metadata": {
        "colab": {
          "base_uri": "https://localhost:8080/"
        },
        "id": "wPx34td4V5ZF",
        "outputId": "6183d5dc-82d0-4de9-9262-575314d9f690"
      },
      "execution_count": 15,
      "outputs": [
        {
          "output_type": "stream",
          "name": "stdout",
          "text": [
            "Sum: 15\n",
            "Difference: 5\n"
          ]
        }
      ]
    },
    {
      "cell_type": "markdown",
      "source": [
        "8.**Implement a class Person with a class method to count the total number of persons created.**"
      ],
      "metadata": {
        "id": "3fRzbFSqWMz7"
      }
    },
    {
      "cell_type": "code",
      "source": [
        "class Person:\n",
        "    # Class variable to keep track of the count\n",
        "    person_count = 0\n",
        "\n",
        "    def __init__(self, name): # Changed _init_ to __init__\n",
        "        self.name = name\n",
        "        Person.person_count += 1  # Increment count when a new object is created\n",
        "\n",
        "    # Class method to get the total number of persons created\n",
        "    @classmethod\n",
        "    def get_person_count(cls):\n",
        "        return cls.person_count\n",
        "\n",
        "# Creating Person objects\n",
        "p1 = Person(\"Alice\")\n",
        "p2 = Person(\"Bob\")\n",
        "p3 = Person(\"Charlie\")\n",
        "\n",
        "# Getting the total number of persons created\n",
        "print(f\"Total persons created: {Person.get_person_count()}\")"
      ],
      "metadata": {
        "colab": {
          "base_uri": "https://localhost:8080/"
        },
        "id": "Pq2P2sr0XA10",
        "outputId": "c26a4243-3a3e-4823-edb2-acd205a20f81"
      },
      "execution_count": 17,
      "outputs": [
        {
          "output_type": "stream",
          "name": "stdout",
          "text": [
            "Total persons created: 3\n"
          ]
        }
      ]
    },
    {
      "cell_type": "markdown",
      "source": [
        "9.**Write a class Fraction with attributes numerator and denominator. Override the str method to display the\n",
        "fraction as \"numerator/denominator\".**"
      ],
      "metadata": {
        "id": "miUc7EI-XFNk"
      }
    },
    {
      "cell_type": "code",
      "source": [
        "class Fraction:\n",
        "    def __init__(self, numerator, denominator): # Changed _init_ to __init__\n",
        "        self.numerator = numerator\n",
        "        self.denominator = denominator\n",
        "\n",
        "    # Override the __str__ method # Changed _str_ to __str__\n",
        "    def __str__(self):\n",
        "        return f\"{self.numerator}/{self.denominator}\"\n",
        "\n",
        "# Example usage\n",
        "f1 = Fraction(3, 4)\n",
        "f2 = Fraction(5, 2)\n",
        "\n",
        "print(f1)\n",
        "print(f2)"
      ],
      "metadata": {
        "colab": {
          "base_uri": "https://localhost:8080/"
        },
        "id": "XsaILNNZXtYT",
        "outputId": "6d4ea654-b81e-4dd7-d209-da47f2bd4c9c"
      },
      "execution_count": 20,
      "outputs": [
        {
          "output_type": "stream",
          "name": "stdout",
          "text": [
            "3/4\n",
            "5/2\n"
          ]
        }
      ]
    },
    {
      "cell_type": "markdown",
      "source": [
        "10.**Demonstrate operator overloading by creating a class Vector and overriding the add method to add two\n",
        "vectors.**"
      ],
      "metadata": {
        "id": "6WaG-BTbXxdT"
      }
    },
    {
      "cell_type": "code",
      "source": [
        "class Vector:\n",
        "    def __init__(self, x, y): # Corrected the constructor name to __init__\n",
        "        self.x = x\n",
        "        self.y = y\n",
        "\n",
        "    # Overriding the + operator\n",
        "    def __add__(self, other): # Corrected the method name to __add__\n",
        "        return Vector(self.x + other.x, self.y + other.y)\n",
        "\n",
        "    # For a readable string representation\n",
        "    def __str__(self): # Corrected the method name to __str__\n",
        "        return f\"Vector({self.x}, {self.y})\"\n",
        "\n",
        "# Example usage\n",
        "v1 = Vector(2, 3)\n",
        "v2 = Vector(4, 5)\n",
        "v3 = v1 + v2  # This uses the overloaded __add__ method\n",
        "\n",
        "print(v3)"
      ],
      "metadata": {
        "colab": {
          "base_uri": "https://localhost:8080/"
        },
        "id": "c8JJtWOlYW8j",
        "outputId": "51b06b75-c777-4fe2-8e4b-ba6866fbaba4"
      },
      "execution_count": 22,
      "outputs": [
        {
          "output_type": "stream",
          "name": "stdout",
          "text": [
            "Vector(6, 8)\n"
          ]
        }
      ]
    },
    {
      "cell_type": "markdown",
      "source": [
        "11.**Create a class Person with attributes name and age. Add a method greet() that prints \"Hello, my name is\n",
        "{name} and I am {age} years old.\"**"
      ],
      "metadata": {
        "id": "TCkaVFNcYbF5"
      }
    },
    {
      "cell_type": "code",
      "source": [
        "class Person:\n",
        "    def __init__(self, name, age): # Changed _init_ to __init__\n",
        "        self.name = name\n",
        "        self.age = age\n",
        "\n",
        "    def greet(self):\n",
        "        print(f\"Hello, my name is {self.name} and I am {self.age} years old.\")\n",
        "\n",
        "# Example usage\n",
        "p1 = Person(\"Nil\", 25)\n",
        "p1.greet()"
      ],
      "metadata": {
        "colab": {
          "base_uri": "https://localhost:8080/"
        },
        "id": "hwpiw1_nZC0z",
        "outputId": "f7831c65-b0eb-496b-d487-922680fffa40"
      },
      "execution_count": 25,
      "outputs": [
        {
          "output_type": "stream",
          "name": "stdout",
          "text": [
            "Hello, my name is Nil and I am 25 years old.\n"
          ]
        }
      ]
    },
    {
      "cell_type": "markdown",
      "source": [
        "12.**Implement a class Student with attributes name and grades. Create a method average_grade() to compute\n",
        "the average of the grades.**"
      ],
      "metadata": {
        "id": "j9EOjuXhZKrR"
      }
    },
    {
      "cell_type": "code",
      "source": [
        "class Student:\n",
        "    def __init__(self, name, grades): # Changed _init_ to __init__\n",
        "        self.name = name\n",
        "        self.grades = grades  # Expecting a list of numeric grades\n",
        "\n",
        "    def average_grade(self):\n",
        "        if not self.grades:\n",
        "            return 0  # Avoid division by zero\n",
        "        return sum(self.grades) / len(self.grades)\n",
        "\n",
        "# Example usage\n",
        "s1 = Student(\"John\", [85, 90, 78, 92])\n",
        "print(f\"{s1.name}'s average grade: {s1.average_grade():.2f}\")"
      ],
      "metadata": {
        "colab": {
          "base_uri": "https://localhost:8080/"
        },
        "id": "YL0q-g6YZuHP",
        "outputId": "8dfd93e1-bed5-4cba-88cf-c1bfa328fd60"
      },
      "execution_count": 27,
      "outputs": [
        {
          "output_type": "stream",
          "name": "stdout",
          "text": [
            "John's average grade: 86.25\n"
          ]
        }
      ]
    },
    {
      "cell_type": "markdown",
      "source": [
        "13.**Create a class Rectangle with methods set_dimensions() to set the dimensions and area() to calculate the\n",
        "area.**"
      ],
      "metadata": {
        "id": "KFMCoNItZ1DI"
      }
    },
    {
      "cell_type": "code",
      "source": [
        "class Rectangle:\n",
        "    def _init_(self):\n",
        "        self.length = 0\n",
        "        self.width = 0\n",
        "\n",
        "    def set_dimensions(self, length, width):\n",
        "        self.length = length\n",
        "        self.width = width\n",
        "\n",
        "    def area(self):\n",
        "        return self.length * self.width\n",
        "\n",
        "# Example usage\n",
        "rect = Rectangle()\n",
        "rect.set_dimensions(5, 3)\n",
        "print(f\"Area of rectangle: {rect.area()}\")"
      ],
      "metadata": {
        "colab": {
          "base_uri": "https://localhost:8080/"
        },
        "id": "2Xlx4vyeZ4kR",
        "outputId": "e70e0d5d-1fda-471a-c27e-71a7cbe5d29a"
      },
      "execution_count": 28,
      "outputs": [
        {
          "output_type": "stream",
          "name": "stdout",
          "text": [
            "Area of rectangle: 15\n"
          ]
        }
      ]
    },
    {
      "cell_type": "markdown",
      "source": [
        "14.**Create a class Employee with a method calculate_salary() that computes the salary based on hours worked\n",
        "and hourly rate. Create a derived class Manager that adds a bonus to the salary.**"
      ],
      "metadata": {
        "id": "iwtHbJaEaJjK"
      }
    },
    {
      "cell_type": "code",
      "source": [
        "# Base class\n",
        "class Employee:\n",
        "    def __init__(self, name, hours_worked, hourly_rate): # Changed _init_ to __init__\n",
        "        self.name = name\n",
        "        self.hours_worked = hours_worked\n",
        "        self.hourly_rate = hourly_rate\n",
        "\n",
        "    def calculate_salary(self):\n",
        "        return self.hours_worked * self.hourly_rate\n",
        "\n",
        "# Derived class\n",
        "class Manager(Employee):\n",
        "    def __init__(self, name, hours_worked, hourly_rate, bonus): # Changed _init_ to __init__\n",
        "        super().__init__(name, hours_worked, hourly_rate)\n",
        "        self.bonus = bonus\n",
        "\n",
        "    def calculate_salary(self):\n",
        "        base_salary = super().calculate_salary()\n",
        "        return base_salary + self.bonus\n",
        "\n",
        "# Example usage\n",
        "emp = Employee(\"John\", 40, 20)\n",
        "mgr = Manager(\"Alice\", 40, 30, 500)\n",
        "\n",
        "print(f\"{emp.name}'s salary: ${emp.calculate_salary()}\")\n",
        "print(f\"{mgr.name}'s salary: ${mgr.calculate_salary()}\")"
      ],
      "metadata": {
        "colab": {
          "base_uri": "https://localhost:8080/"
        },
        "id": "aEyPRSMmarR7",
        "outputId": "78e7a35d-cdfb-47ef-8a71-c3b06265556e"
      },
      "execution_count": 31,
      "outputs": [
        {
          "output_type": "stream",
          "name": "stdout",
          "text": [
            "John's salary: $800\n",
            "Alice's salary: $1700\n"
          ]
        }
      ]
    },
    {
      "cell_type": "markdown",
      "source": [
        "15.**Create a class Product with attributes name, price, and quantity. Implement a method total_price() that\n",
        "calculates the total price of the product.**"
      ],
      "metadata": {
        "id": "U6EIIQiAawsy"
      }
    },
    {
      "cell_type": "code",
      "source": [
        "class Product:\n",
        "    def __init__(self, name, price, quantity): # Changed _init_ to __init__\n",
        "        self.name = name\n",
        "        self.price = price\n",
        "        self.quantity = quantity\n",
        "\n",
        "    def total_price(self):\n",
        "        return self.price * self.quantity\n",
        "\n",
        "# Example usage\n",
        "p1=Product(\"Laptop\", 800, 3)\n",
        "print(f\"Total price for {p1.name}s: ${p1.total_price()}\")"
      ],
      "metadata": {
        "colab": {
          "base_uri": "https://localhost:8080/"
        },
        "id": "4yQ0j4OEbtsn",
        "outputId": "c9b9ae07-4d02-4cb2-f27b-0e8a2c5aafcf"
      },
      "execution_count": 35,
      "outputs": [
        {
          "output_type": "stream",
          "name": "stdout",
          "text": [
            "Total price for Laptops: $2400\n"
          ]
        }
      ]
    },
    {
      "cell_type": "markdown",
      "source": [
        "16.**Create a class Animal with an abstract method sound(). Create two derived classes Cow and Sheep that\n",
        "implement the sound() method.**"
      ],
      "metadata": {
        "id": "-BimJAZGbwIG"
      }
    },
    {
      "cell_type": "code",
      "source": [
        "from abc import ABC, abstractmethod\n",
        "\n",
        "# Abstract base class\n",
        "class Animal(ABC):\n",
        "    @abstractmethod\n",
        "    def sound(self):\n",
        "        pass\n",
        "\n",
        "# Derived class Cow\n",
        "class Cow(Animal):\n",
        "    def sound(self):\n",
        "        return \"Moo\"\n",
        "\n",
        "# Derived class Sheep\n",
        "class Sheep(Animal):\n",
        "    def sound(self):\n",
        "        return \"Baa\"\n",
        "\n",
        "# Example usage\n",
        "cow = Cow()\n",
        "sheep = Sheep()\n",
        "\n",
        "print(f\"Cow says: {cow.sound()}\")\n",
        "print(f\"Sheep says: {sheep.sound()}\")"
      ],
      "metadata": {
        "colab": {
          "base_uri": "https://localhost:8080/"
        },
        "id": "NCKF9cBIb1Bh",
        "outputId": "76719038-b7e2-459e-a78e-dfd11dc627ac"
      },
      "execution_count": 36,
      "outputs": [
        {
          "output_type": "stream",
          "name": "stdout",
          "text": [
            "Cow says: Moo\n",
            "Sheep says: Baa\n"
          ]
        }
      ]
    },
    {
      "cell_type": "markdown",
      "source": [
        "17.**Create a class Book with attributes title, author, and year_published. Add a method get_book_info() that\n",
        "returns a formatted string with the book's details.**"
      ],
      "metadata": {
        "id": "1OgQqC-GcKj6"
      }
    },
    {
      "cell_type": "code",
      "source": [
        "class Book:\n",
        "    def __init__(self, title, author, year_published): # Changed _init_ to __init__\n",
        "        self.title = title\n",
        "        self.author = author\n",
        "        self.year_published = year_published\n",
        "\n",
        "    def get_book_info(self):\n",
        "        return f\"'{self.title}' by {self.author} (Published in {self.year_published})\"\n",
        "\n",
        "# Example usage\n",
        "book1 = Book(\"1984\", \"George Orwell\", 1949)\n",
        "print(book1.get_book_info())"
      ],
      "metadata": {
        "colab": {
          "base_uri": "https://localhost:8080/"
        },
        "id": "DPe8rt1dc7In",
        "outputId": "902fa21d-851d-41c8-ab4d-763cde9616e4"
      },
      "execution_count": 38,
      "outputs": [
        {
          "output_type": "stream",
          "name": "stdout",
          "text": [
            "'1984' by George Orwell (Published in 1949)\n"
          ]
        }
      ]
    },
    {
      "cell_type": "markdown",
      "source": [
        "18.**Create a class House with attributes address and price. Create a derived class Mansion that adds an\n",
        "attribute number_of_rooms.**"
      ],
      "metadata": {
        "id": "DYHhY27Mc_o1"
      }
    },
    {
      "cell_type": "code",
      "source": [
        "# Base class House\n",
        "class House:\n",
        "    def __init__(self, address, price):  # Changed _init_ to __init__\n",
        "        self.address = address\n",
        "        self.price = price\n",
        "\n",
        "    def get_info(self):\n",
        "        return f\"House at {self.address} costs ${self.price}\"\n",
        "\n",
        "# Derived class Mansion\n",
        "class Mansion(House):\n",
        "    def __init__(self, address, price, number_of_rooms): # Changed _init_ to __init__\n",
        "        super().__init__(address, price)\n",
        "        self.number_of_rooms = number_of_rooms\n",
        "\n",
        "    def get_info(self):\n",
        "        base_info = super().get_info()\n",
        "        return f\"{base_info} and has {self.number_of_rooms} rooms\"\n",
        "\n",
        "# Example usage\n",
        "house = House(\"123 Main St\", 250000)\n",
        "mansion = Mansion(\"456 Luxury Ln\", 5000000, 10)\n",
        "\n",
        "print(house.get_info())\n",
        "print(mansion.get_info())"
      ],
      "metadata": {
        "colab": {
          "base_uri": "https://localhost:8080/"
        },
        "id": "3BMmUn8Md1qV",
        "outputId": "dfe34f1e-4666-4a9a-ed9b-829ff9e3eca3"
      },
      "execution_count": 41,
      "outputs": [
        {
          "output_type": "stream",
          "name": "stdout",
          "text": [
            "House at 123 Main St costs $250000\n",
            "House at 456 Luxury Ln costs $5000000 and has 10 rooms\n"
          ]
        }
      ]
    }
  ]
}